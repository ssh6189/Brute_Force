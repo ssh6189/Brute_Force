{
 "cells": [
  {
   "cell_type": "markdown",
   "metadata": {},
   "source": [
    "<H1>1. 카지노에서 제일 인기 있는 게임 블랙잭의 규칙은 상당히 쉽다. </H1>\n",
    "    \n",
    "<H1>카드의 합이 21을 넘지 않는 한도 내에서, 카드의 합을 최대한 크게 만드는 게임이다. </H1>\n",
    "    \n",
    "<H1>블랙잭은 카지노마다 다양한 규정이 있다.</H1>\n",
    "    \n",
    "<H1>한국 최고의 블랙잭 고수 김정인은 새로운 블랙잭 규칙을 만들어 상근, 창영이와 게임하려고 한다.</H1>\n",
    "    \n",
    "<H1>김정인 버젼의 블랙잭에서 각 카드에는 양의 정수가 쓰여 있다.</H1>\n",
    "\n",
    "<H1>그 다음, 딜러는 N장의 카드를 모두 숫자가 보이도록 바닥에 놓는다.</H1>\n",
    "    \n",
    "<H1>그런후에 딜러는 숫자 M을 크게 외친다.</H1>\n",
    "    \n",
    "<H1>이제 플레이어는 제한된 시간 안에 N장의 카드 중에서 3장의 카드를 골라야 한다.</H1>\n",
    "\n",
    "<H1>블랙잭 변형 게임이기 때문에,</H1>\n",
    "    \n",
    "<H1>플레이어가 고른 카드합은 M을 넘지 않으면서 M과 최대한 가깝게 만들어야 한다.</H1>\n",
    "    \n",
    "<H1>N장의 카드에 써져 있는 숫자가 주어졌을 때, M을 넘지 않으면서</H1>\n",
    "    \n",
    "<H1>M에 최대한 가까운 카드 3장의 합을 구해 출력하시오.</H1>\n",
    "\n",
    "<H1>첫째 줄에 카드의 개수 N(3 ≤ N ≤ 100)과 M(10 ≤ M ≤ 300,000)이 주어진다.</H1>\n",
    "\n",
    "<H1>둘째 줄에는 카드에 쓰여 있는 수가 주어지며, 이 값은 100,000을 넘지 않는다.</H1>\n",
    "\n",
    "<H1>합이 M을 넘지 않는 카드 3장을 찾을 수 있는 경우만 입력으로 주어진다.</H1>"
   ]
  },
  {
   "cell_type": "code",
   "execution_count": 12,
   "metadata": {},
   "outputs": [
    {
     "name": "stdout",
     "output_type": "stream",
     "text": [
      "10 500\n",
      "93 181 245 214 315 36 185 138 216 295\n",
      "497\n"
     ]
    }
   ],
   "source": [
    "N, M = map(int, input().split(\" \"))\n",
    "\n",
    "card_list = []\n",
    "\n",
    "card = list(map(int, input().split(\" \")))\n",
    "    \n",
    "card.sort()\n",
    "\n",
    "for x in card:\n",
    "    for y in card:\n",
    "        for z in card:\n",
    "            if((x!=y) and (y!=z) and (x!=z)):\n",
    "                n = x + y + z\n",
    "            if(n <= M):\n",
    "                card_list.append(n)\n",
    "                \n",
    "print(max(card_list))"
   ]
  },
  {
   "cell_type": "markdown",
   "metadata": {},
   "source": [
    "<H1>2. 어떤 자연수 N이 있을 때, 그 자연수 N의 분해합은 N과 N을 이루는 각 자리수의 합을 의미한다.</H1>\n",
    "\n",
    "<H1>어떤 자연수 M의 분해합이 N인 경우, M을 N의 생성자라 한다.</H1>\n",
    "\n",
    "<H1>예를 들어, 245의 분해합은 256(=245+2+4+5)이 된다. 따라서 245는 256의 생성자가 된다.</H1>\n",
    "\n",
    "<H1>물론, 어떤 자연수의 경우에는 생성자가 없을 수도 있다. 반대로, 생성자가 여러 개인 자연수도 있을 수 있다.</H1>\n",
    "\n",
    "<H1>자연수 N이 주어졌을 때, N의 가장 작은 생성자를 구해내는 프로그램을 작성하시오.</H1>\n",
    "\n",
    "<H1>첫째 줄에 자연수 N(1 ≤ N ≤ 1,000,000)이 주어진다.</H1>"
   ]
  },
  {
   "cell_type": "code",
   "execution_count": 6,
   "metadata": {},
   "outputs": [
    {
     "name": "stdout",
     "output_type": "stream",
     "text": [
      "216\n",
      "198\n"
     ]
    }
   ],
   "source": [
    "n = int(input())\n",
    "\n",
    "for i in range(n + 1):\n",
    "    ln = str(i)\n",
    "    total = i\n",
    "    for j in ln:\n",
    "        total = total + int(j)\n",
    "    if total == n:\n",
    "        break\n",
    "\n",
    "if(i != n):\n",
    "    print(i)\n",
    "else:\n",
    "    print(0)"
   ]
  },
  {
   "cell_type": "markdown",
   "metadata": {},
   "source": [
    "<H1>\n",
    "3. \n",
    "<img src = \"Size.jpg\">\n",
    "<H1>첫 줄에는 전체 사람의 수 N이 주어진다.</H1>\n",
    "    \n",
    "<H1>그리고 이어지는 N개의 줄에는 각 사람의 몸무게와 키를 나타내는</H1>\n",
    "    \n",
    "<H1>양의 정수 x와 y가 하나의 공백을 두고 각각 나타난다.</H1> \n",
    "    \n",
    "<H1>단, 2 ≤ N ≤ 50, 10 ≤ x,y ≤ 200 이다.</H1>    \n"
   ]
  },
  {
   "cell_type": "code",
   "execution_count": 27,
   "metadata": {},
   "outputs": [
    {
     "name": "stdout",
     "output_type": "stream",
     "text": [
      " 5\n",
      "55 185\n",
      "58 183\n",
      "88 186\n",
      "80 175\n",
      "46 155\n",
      "2 2 1 2 5 "
     ]
    }
   ],
   "source": [
    "N = int(input(\" \"))\n",
    "\n",
    "people = []\n",
    "\n",
    "for i in range(N):\n",
    "    w, h = map(int, input().split(\" \"))\n",
    "    people.append([w,h])\n",
    "\n",
    "for j in people:\n",
    "    rank = 1\n",
    "    for k in people:\n",
    "        if((j[0]<k[0]) and (j[1]<k[1])):\n",
    "            rank = rank + 1\n",
    "    \n",
    "    print(rank, end = \" \")"
   ]
  }
 ],
 "metadata": {
  "kernelspec": {
   "display_name": "Python 3",
   "language": "python",
   "name": "python3"
  },
  "language_info": {
   "codemirror_mode": {
    "name": "ipython",
    "version": 3
   },
   "file_extension": ".py",
   "mimetype": "text/x-python",
   "name": "python",
   "nbconvert_exporter": "python",
   "pygments_lexer": "ipython3",
   "version": "3.7.4"
  }
 },
 "nbformat": 4,
 "nbformat_minor": 2
}
