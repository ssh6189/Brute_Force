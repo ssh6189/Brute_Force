{
 "cells": [
  {
   "cell_type": "markdown",
   "metadata": {},
   "source": [
    "<H1>1. 카지노에서 제일 인기 있는 게임 블랙잭의 규칙은 상당히 쉽다. </H1>\n",
    "    \n",
    "<H1>카드의 합이 21을 넘지 않는 한도 내에서, 카드의 합을 최대한 크게 만드는 게임이다. </H1>\n",
    "    \n",
    "<H1>블랙잭은 카지노마다 다양한 규정이 있다.</H1>\n",
    "    \n",
    "<H1>한국 최고의 블랙잭 고수 김정인은 새로운 블랙잭 규칙을 만들어 상근, 창영이와 게임하려고 한다.</H1>\n",
    "    \n",
    "<H1>김정인 버젼의 블랙잭에서 각 카드에는 양의 정수가 쓰여 있다.</H1>\n",
    "\n",
    "<H1>그 다음, 딜러는 N장의 카드를 모두 숫자가 보이도록 바닥에 놓는다.</H1>\n",
    "    \n",
    "<H1>그런후에 딜러는 숫자 M을 크게 외친다.</H1>\n",
    "    \n",
    "<H1>이제 플레이어는 제한된 시간 안에 N장의 카드 중에서 3장의 카드를 골라야 한다.</H1>\n",
    "\n",
    "<H1>블랙잭 변형 게임이기 때문에,</H1>\n",
    "    \n",
    "<H1>플레이어가 고른 카드합은 M을 넘지 않으면서 M과 최대한 가깝게 만들어야 한다.</H1>\n",
    "    \n",
    "<H1>N장의 카드에 써져 있는 숫자가 주어졌을 때, M을 넘지 않으면서</H1>\n",
    "    \n",
    "<H1>M에 최대한 가까운 카드 3장의 합을 구해 출력하시오.</H1>\n",
    "\n",
    "<H1>첫째 줄에 카드의 개수 N(3 ≤ N ≤ 100)과 M(10 ≤ M ≤ 300,000)이 주어진다.</H1>\n",
    "\n",
    "<H1>둘째 줄에는 카드에 쓰여 있는 수가 주어지며, 이 값은 100,000을 넘지 않는다.</H1>\n",
    "\n",
    "<H1>합이 M을 넘지 않는 카드 3장을 찾을 수 있는 경우만 입력으로 주어진다.</H1>"
   ]
  },
  {
   "cell_type": "code",
   "execution_count": 12,
   "metadata": {},
   "outputs": [
    {
     "name": "stdout",
     "output_type": "stream",
     "text": [
      "10 500\n",
      "93 181 245 214 315 36 185 138 216 295\n",
      "497\n"
     ]
    }
   ],
   "source": [
    "N, M = map(int, input().split(\" \"))\n",
    "\n",
    "card_list = []\n",
    "\n",
    "card = list(map(int, input().split(\" \")))\n",
    "    \n",
    "card.sort()\n",
    "\n",
    "for x in card:\n",
    "    for y in card:\n",
    "        for z in card:\n",
    "            if((x!=y) and (y!=z) and (x!=z)):\n",
    "                n = x + y + z\n",
    "            if(n <= M):\n",
    "                card_list.append(n)\n",
    "                \n",
    "print(max(card_list))"
   ]
  },
  {
   "cell_type": "markdown",
   "metadata": {},
   "source": [
    "<H1>2. 어떤 자연수 N이 있을 때, 그 자연수 N의 분해합은 N과 N을 이루는 각 자리수의 합을 의미한다.</H1>\n",
    "\n",
    "<H1>어떤 자연수 M의 분해합이 N인 경우, M을 N의 생성자라 한다.</H1>\n",
    "\n",
    "<H1>예를 들어, 245의 분해합은 256(=245+2+4+5)이 된다. 따라서 245는 256의 생성자가 된다.</H1>\n",
    "\n",
    "<H1>물론, 어떤 자연수의 경우에는 생성자가 없을 수도 있다. 반대로, 생성자가 여러 개인 자연수도 있을 수 있다.</H1>\n",
    "\n",
    "<H1>자연수 N이 주어졌을 때, N의 가장 작은 생성자를 구해내는 프로그램을 작성하시오.</H1>\n",
    "\n",
    "<H1>첫째 줄에 자연수 N(1 ≤ N ≤ 1,000,000)이 주어진다.</H1>"
   ]
  },
  {
   "cell_type": "code",
   "execution_count": 6,
   "metadata": {},
   "outputs": [
    {
     "name": "stdout",
     "output_type": "stream",
     "text": [
      "216\n",
      "198\n"
     ]
    }
   ],
   "source": [
    "n = int(input())\n",
    "\n",
    "for i in range(n + 1):\n",
    "    ln = str(i)\n",
    "    total = i\n",
    "    for j in ln:\n",
    "        total = total + int(j)\n",
    "    if total == n:\n",
    "        break\n",
    "\n",
    "if(i != n):\n",
    "    print(i)\n",
    "else:\n",
    "    print(0)"
   ]
  },
  {
   "cell_type": "markdown",
   "metadata": {},
   "source": [
    "<H1>\n",
    "3. \n",
    "<img src = \"Size.jpg\">\n",
    "<H1>첫 줄에는 전체 사람의 수 N이 주어진다.</H1>\n",
    "    \n",
    "<H1>그리고 이어지는 N개의 줄에는 각 사람의 몸무게와 키를 나타내는</H1>\n",
    "    \n",
    "<H1>양의 정수 x와 y가 하나의 공백을 두고 각각 나타난다.</H1> \n",
    "    \n",
    "<H1>단, 2 ≤ N ≤ 50, 10 ≤ x,y ≤ 200 이다.</H1>    \n"
   ]
  },
  {
   "cell_type": "code",
   "execution_count": 27,
   "metadata": {},
   "outputs": [
    {
     "name": "stdout",
     "output_type": "stream",
     "text": [
      " 5\n",
      "55 185\n",
      "58 183\n",
      "88 186\n",
      "80 175\n",
      "46 155\n",
      "2 2 1 2 5 "
     ]
    }
   ],
   "source": [
    "N = int(input(\" \"))\n",
    "\n",
    "people = []\n",
    "\n",
    "for i in range(N):\n",
    "    w, h = map(int, input().split(\" \"))\n",
    "    people.append([w,h])\n",
    "\n",
    "for j in people:\n",
    "    rank = 1\n",
    "    for k in people:\n",
    "        if((j[0]<k[0]) and (j[1]<k[1])):\n",
    "            rank = rank + 1\n",
    "    \n",
    "    print(rank, end = \" \")"
   ]
  },
  {
   "cell_type": "markdown",
   "metadata": {},
   "source": [
    "<H1>\n",
    "4. 지민이는 자신의 저택에서 MN개의 단위 정사각형으로\n",
    "</H1>    \n",
    "<H1>\n",
    "나누어져 있는 M*N 크기의 보드를 찾았다.\n",
    "</H1> \n",
    "<H1>\n",
    "어떤 정사각형은 검은색으로 칠해져 있고, 나머지는 흰색으로 칠해져 있다. \n",
    "</H1> \n",
    "<H1>  \n",
    "지민이는 이 보드를 잘라서 8*8 크기의 체스판으로 만들려고 한다.\n",
    "</H1> \n",
    "<H1>\n",
    "체스판은 검은색과 흰색이 번갈아서 칠해져 있어야 한다.\n",
    "</H1> \n",
    "<H1>    \n",
    "구체적으로, 각 칸이 검은색과 흰색 중 하나로 색칠되어 있고, \n",
    "</H1> \n",
    "<H1>    \n",
    "변을 공유하는 두 개의 사각형은 다른 색으로 칠해져 있어야 한다.\n",
    "</H1> \n",
    "<H1>    \n",
    "따라서 이 정의를 따르면 체스판을 색칠하는 경우는 두 가지뿐이다. \n",
    "</H1> \n",
    "<H1>    \n",
    "하나는 맨 왼쪽 위 칸이 흰색인 경우, 하나는 검은색인 경우이다.\n",
    "</H1> \n",
    "<H1>\n",
    "보드가 체스판처럼 칠해져 있다는 보장이 없어서, \n",
    "</H1> \n",
    "<H1>    \n",
    "지민이는 8*8 크기의 체스판으로 잘라낸 후에 몇 개의 정사각형을 \n",
    "</H1> \n",
    "<H1>\n",
    "다시 칠해야겠다고 생각했다.\n",
    "</H1> \n",
    "<H1>    \n",
    "당연히 8*8 크기는 아무데서나 골라도 된다.\n",
    "</H1> \n",
    "<H1>    \n",
    "지민이가 다시 칠해야 하는 정사각형의 최소 개수를 구하는 프로그램을 작성하시오.\n",
    "</H1> \n",
    "<H1>\n",
    "첫째 줄에 N과 M이 주어진다. N과 M은 8보다 크거나 같고,\n",
    "</H1> \n",
    "<H1>    \n",
    "50보다 작거나 같은 자연수이다. \n",
    "</H1> \n",
    "<H1>    \n",
    "둘째 줄부터 N개의 줄에는 보드의 각 행의 상태가 주어진다.\n",
    "</H1> \n",
    "<H1>    \n",
    "B는 검은색이며, W는 흰색이다.\n",
    "</H1>"
   ]
  },
  {
   "cell_type": "code",
   "execution_count": 29,
   "metadata": {},
   "outputs": [
    {
     "name": "stdout",
     "output_type": "stream",
     "text": [
      "10 13\n",
      "BBBBBBBBWBWBW\n",
      "BBBBBBBBBWBWB\n",
      "BBBBBBBBWBWBW\n",
      "BBBBBBBBBWBWB\n",
      "BBBBBBBBWBWBW\n",
      "BBBBBBBBBWBWB\n",
      "BBBBBBBBWBWBW\n",
      "BBBBBBBBBWBWB\n",
      "WWWWWWWWWWBWB\n",
      "WWWWWWWWWWBWB\n",
      "12\n"
     ]
    }
   ],
   "source": [
    "N, M = map(int, input().split())\n",
    "board = [input() for _ in range(N)]\n",
    "w, b = 'WBWBWBWB', 'BWBWBWBW'\n",
    "white = [w, b] * 4\n",
    "black = [b, w] * 4\n",
    "\n",
    "min_ = 64\n",
    "for y in range(N-7):\n",
    "    for x in range(M-7):\n",
    "        cnt = 0\n",
    "        for i in range(8):\n",
    "            for j in range(8):\n",
    "                if board[y+i][x+j] != white[i][j]:\n",
    "                    cnt += 1\n",
    "            if cnt > min_:\n",
    "                break\n",
    "        min_ = min(min_, cnt) \n",
    "        \n",
    "        cnt = 0\n",
    "        for i in range(8):\n",
    "            for j in range(8):\n",
    "                if board[y+i][x+j] != black[i][j]:\n",
    "                    cnt += 1\n",
    "            if cnt > min_:\n",
    "                break\n",
    "        min_ = min(min_, cnt)\n",
    "\n",
    "print(min_)"
   ]
  },
  {
   "cell_type": "markdown",
   "metadata": {},
   "source": [
    "<H1>\n",
    "5. 666은 종말을 나타내는 숫자라고 한다.\n",
    "</H1>\n",
    "<H1>\n",
    "따라서, 많은 블록버스터 영화에서는 666이 들어간 제목을 많이 사용한다.\n",
    "</H1>\n",
    "<H1>\n",
    "영화감독 숌은 세상의 종말 이라는 시리즈 영화의 감독이다.\n",
    "</H1>\n",
    "<H1>\n",
    "조지 루카스는 스타워즈를 만들 때, 스타워즈 1, 스타워즈 2, 스타워즈 3,\n",
    "</H1>\n",
    "<H1>\n",
    "스타워즈 4, 스타워즈 5, 스타워즈 6과 같이 이름을 지었고,\n",
    "</H1>    \n",
    "<H1>\n",
    "피터 잭슨은 반지의 제왕을 만들 때, \n",
    "</H1>\n",
    "<H1>   \n",
    "반지의 제왕 1, 반지의 제왕 2, 반지의 제왕 3과 같이 영화 제목을 지었다.\n",
    "</H1>\n",
    "<H1>\n",
    "하지만 숌은 자신이 조지 루카스와 피터 잭슨을 뛰어넘는다는 것을 보여주기 위해서\n",
    "</H1>\n",
    "<H1>\n",
    "영화 제목을 좀 다르게 만들기로 했다.\n",
    "</H1>\n",
    "<H1>\n",
    "종말의 숫자란 어떤 수에 6이 적어도 3개이상 연속으로 들어가는 수를 말한다.\n",
    "</H1>\n",
    "<H1>\n",
    "제일 작은 종말의 숫자는 666이고,\n",
    "</H1>\n",
    "<H1>\n",
    "그 다음으로 큰 수는 1666, 2666, 3666, .... 과 같다.\n",
    "</H1>\n",
    "<H1>\n",
    "따라서, 숌은 첫 번째 영화의 제목은 세상의 종말 666,\n",
    "</H1>\n",
    "<H1>\n",
    "두 번째 영화의 제목은 세상의 종말 1666 이렇게 이름을 지을 것이다.\n",
    "</H1>\n",
    "<H1>\n",
    "일반화해서 생각하면, N번째 영화의 제목은\n",
    "</H1>\n",
    "<H1>    \n",
    "세상의 종말 (N번째로 작은 종말의 숫자) 와 같다.\n",
    "</H1>\n",
    "<H1>\n",
    "숌이 만든 N번째 영화의 제목에 들어간 숫자를 출력하는 프로그램을 작성하시오.\n",
    "</H1>\n",
    "<H1>\n",
    "숌은 이 시리즈를 항상 차례대로 만들고, 다른 영화는 만들지 않는다.\n",
    "</H1>\n",
    "<H1>\n",
    "입력\n",
    "</H1>\n",
    "<H1>\n",
    "첫째 줄에 숫자 N이 주어진다. N은 10,000보다 작거나 같은 자연수이다.\n",
    "</H1>"
   ]
  },
  {
   "cell_type": "code",
   "execution_count": 12,
   "metadata": {},
   "outputs": [
    {
     "name": "stdout",
     "output_type": "stream",
     "text": [
      " 2\n",
      "1666\n"
     ]
    }
   ],
   "source": [
    "N = int(input(\" \"))\n",
    "\n",
    "c = \" \"\n",
    "\n",
    "for i in range(N):\n",
    "    c = i\n",
    "    \n",
    "c = str(c)\n",
    "\n",
    "if(N == 1):\n",
    "    print(666)\n",
    "else:\n",
    "    for i in range(N):\n",
    "        c = i\n",
    "    \n",
    "    c = str(c)\n",
    "    \n",
    "    print(int(c + \"666\"))"
   ]
  }
 ],
 "metadata": {
  "kernelspec": {
   "display_name": "Python 3",
   "language": "python",
   "name": "python3"
  },
  "language_info": {
   "codemirror_mode": {
    "name": "ipython",
    "version": 3
   },
   "file_extension": ".py",
   "mimetype": "text/x-python",
   "name": "python",
   "nbconvert_exporter": "python",
   "pygments_lexer": "ipython3",
   "version": "3.7.4"
  }
 },
 "nbformat": 4,
 "nbformat_minor": 2
}
