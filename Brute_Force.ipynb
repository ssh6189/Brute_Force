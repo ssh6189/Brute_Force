{
 "cells": [
  {
   "cell_type": "markdown",
   "metadata": {},
   "source": [
    "<H1>1. 카지노에서 제일 인기 있는 게임 블랙잭의 규칙은 상당히 쉽다. </H1>\n",
    "    \n",
    "<H1>카드의 합이 21을 넘지 않는 한도 내에서, 카드의 합을 최대한 크게 만드는 게임이다. </H1>\n",
    "    \n",
    "<H1>블랙잭은 카지노마다 다양한 규정이 있다.</H1>\n",
    "    \n",
    "<H1>한국 최고의 블랙잭 고수 김정인은 새로운 블랙잭 규칙을 만들어 상근, 창영이와 게임하려고 한다.</H1>\n",
    "    \n",
    "<H1>김정인 버젼의 블랙잭에서 각 카드에는 양의 정수가 쓰여 있다.</H1>\n",
    "\n",
    "<H1>그 다음, 딜러는 N장의 카드를 모두 숫자가 보이도록 바닥에 놓는다.</H1>\n",
    "    \n",
    "<H1>그런후에 딜러는 숫자 M을 크게 외친다.</H1>\n",
    "    \n",
    "<H1>이제 플레이어는 제한된 시간 안에 N장의 카드 중에서 3장의 카드를 골라야 한다.</H1>\n",
    "\n",
    "<H1>블랙잭 변형 게임이기 때문에,</H1>\n",
    "    \n",
    "<H1>플레이어가 고른 카드합은 M을 넘지 않으면서 M과 최대한 가깝게 만들어야 한다.</H1>\n",
    "    \n",
    "<H1>N장의 카드에 써져 있는 숫자가 주어졌을 때, M을 넘지 않으면서</H1>\n",
    "    \n",
    "<H1>M에 최대한 가까운 카드 3장의 합을 구해 출력하시오.</H1>\n",
    "\n",
    "<H1>첫째 줄에 카드의 개수 N(3 ≤ N ≤ 100)과 M(10 ≤ M ≤ 300,000)이 주어진다.</H1>\n",
    "\n",
    "<H1>둘째 줄에는 카드에 쓰여 있는 수가 주어지며, 이 값은 100,000을 넘지 않는다.</H1>\n",
    "\n",
    "<H1>합이 M을 넘지 않는 카드 3장을 찾을 수 있는 경우만 입력으로 주어진다.</H1>"
   ]
  },
  {
   "cell_type": "code",
   "execution_count": 12,
   "metadata": {},
   "outputs": [
    {
     "name": "stdout",
     "output_type": "stream",
     "text": [
      "10 500\n",
      "93 181 245 214 315 36 185 138 216 295\n",
      "497\n"
     ]
    }
   ],
   "source": [
    "N, M = map(int, input().split(\" \"))\n",
    "\n",
    "card_list = []\n",
    "\n",
    "card = list(map(int, input().split(\" \")))\n",
    "    \n",
    "card.sort()\n",
    "\n",
    "for x in card:\n",
    "    for y in card:\n",
    "        for z in card:\n",
    "            if((x!=y) and (y!=z) and (x!=z)):\n",
    "                n = x + y + z\n",
    "            if(n <= M):\n",
    "                card_list.append(n)\n",
    "                \n",
    "print(max(card_list))"
   ]
  },
  {
   "cell_type": "code",
   "execution_count": 22,
   "metadata": {},
   "outputs": [
    {
     "name": "stdout",
     "output_type": "stream",
     "text": [
      "10 500\n",
      "93 181 245 214 315 36 185 138 216 295\n",
      "497\n"
     ]
    }
   ],
   "source": [
    "from itertools import combinations\n",
    "\n",
    "N, M = map(int, input().split())\n",
    "card = list(map(int, input().split(\" \")))\n",
    "c = list(combinations(card, 3))\n",
    "\n",
    "ans = 0\n",
    "for i in c:\n",
    "    s = sum(i)\n",
    "    if(s <= M):\n",
    "        ans = max(ans, s)\n",
    "print(ans)"
   ]
  }
 ],
 "metadata": {
  "kernelspec": {
   "display_name": "Python 3",
   "language": "python",
   "name": "python3"
  },
  "language_info": {
   "codemirror_mode": {
    "name": "ipython",
    "version": 3
   },
   "file_extension": ".py",
   "mimetype": "text/x-python",
   "name": "python",
   "nbconvert_exporter": "python",
   "pygments_lexer": "ipython3",
   "version": "3.7.4"
  }
 },
 "nbformat": 4,
 "nbformat_minor": 2
}
